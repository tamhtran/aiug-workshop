{
 "cells": [
  {
   "cell_type": "code",
   "execution_count": 1,
   "metadata": {},
   "outputs": [
    {
     "name": "stdout",
     "output_type": "stream",
     "text": [
      "Requirement already satisfied: transformers in /Users/ttran/PyCharmProjects/aiug-workship-vs/aiug-workshop/.venv/lib/python3.9/site-packages (4.43.3)\n",
      "Requirement already satisfied: torch in /Users/ttran/PyCharmProjects/aiug-workship-vs/aiug-workshop/.venv/lib/python3.9/site-packages (2.4.0)\n",
      "Requirement already satisfied: filelock in /Users/ttran/PyCharmProjects/aiug-workship-vs/aiug-workshop/.venv/lib/python3.9/site-packages (from transformers) (3.15.4)\n",
      "Requirement already satisfied: huggingface-hub<1.0,>=0.23.2 in /Users/ttran/PyCharmProjects/aiug-workship-vs/aiug-workshop/.venv/lib/python3.9/site-packages (from transformers) (0.24.5)\n",
      "Requirement already satisfied: numpy>=1.17 in /Users/ttran/PyCharmProjects/aiug-workship-vs/aiug-workshop/.venv/lib/python3.9/site-packages (from transformers) (1.26.4)\n",
      "Requirement already satisfied: packaging>=20.0 in /Users/ttran/PyCharmProjects/aiug-workship-vs/aiug-workshop/.venv/lib/python3.9/site-packages (from transformers) (24.1)\n",
      "Requirement already satisfied: pyyaml>=5.1 in /Users/ttran/PyCharmProjects/aiug-workship-vs/aiug-workshop/.venv/lib/python3.9/site-packages (from transformers) (6.0.1)\n",
      "Requirement already satisfied: regex!=2019.12.17 in /Users/ttran/PyCharmProjects/aiug-workship-vs/aiug-workshop/.venv/lib/python3.9/site-packages (from transformers) (2024.7.24)\n",
      "Requirement already satisfied: requests in /Users/ttran/PyCharmProjects/aiug-workship-vs/aiug-workshop/.venv/lib/python3.9/site-packages (from transformers) (2.32.3)\n",
      "Requirement already satisfied: safetensors>=0.4.1 in /Users/ttran/PyCharmProjects/aiug-workship-vs/aiug-workshop/.venv/lib/python3.9/site-packages (from transformers) (0.4.3)\n",
      "Requirement already satisfied: tokenizers<0.20,>=0.19 in /Users/ttran/PyCharmProjects/aiug-workship-vs/aiug-workshop/.venv/lib/python3.9/site-packages (from transformers) (0.19.1)\n",
      "Requirement already satisfied: tqdm>=4.27 in /Users/ttran/PyCharmProjects/aiug-workship-vs/aiug-workshop/.venv/lib/python3.9/site-packages (from transformers) (4.66.4)\n",
      "Requirement already satisfied: typing-extensions>=4.8.0 in /Users/ttran/PyCharmProjects/aiug-workship-vs/aiug-workshop/.venv/lib/python3.9/site-packages (from torch) (4.12.2)\n",
      "Requirement already satisfied: sympy in /Users/ttran/PyCharmProjects/aiug-workship-vs/aiug-workshop/.venv/lib/python3.9/site-packages (from torch) (1.13.1)\n",
      "Requirement already satisfied: networkx in /Users/ttran/PyCharmProjects/aiug-workship-vs/aiug-workshop/.venv/lib/python3.9/site-packages (from torch) (3.2.1)\n",
      "Requirement already satisfied: jinja2 in /Users/ttran/PyCharmProjects/aiug-workship-vs/aiug-workshop/.venv/lib/python3.9/site-packages (from torch) (3.1.4)\n",
      "Requirement already satisfied: fsspec in /Users/ttran/PyCharmProjects/aiug-workship-vs/aiug-workshop/.venv/lib/python3.9/site-packages (from torch) (2024.6.1)\n",
      "Requirement already satisfied: MarkupSafe>=2.0 in /Users/ttran/PyCharmProjects/aiug-workship-vs/aiug-workshop/.venv/lib/python3.9/site-packages (from jinja2->torch) (2.1.5)\n",
      "Requirement already satisfied: charset-normalizer<4,>=2 in /Users/ttran/PyCharmProjects/aiug-workship-vs/aiug-workshop/.venv/lib/python3.9/site-packages (from requests->transformers) (3.3.2)\n",
      "Requirement already satisfied: idna<4,>=2.5 in /Users/ttran/PyCharmProjects/aiug-workship-vs/aiug-workshop/.venv/lib/python3.9/site-packages (from requests->transformers) (3.7)\n",
      "Requirement already satisfied: urllib3<3,>=1.21.1 in /Users/ttran/PyCharmProjects/aiug-workship-vs/aiug-workshop/.venv/lib/python3.9/site-packages (from requests->transformers) (2.2.2)\n",
      "Requirement already satisfied: certifi>=2017.4.17 in /Users/ttran/PyCharmProjects/aiug-workship-vs/aiug-workshop/.venv/lib/python3.9/site-packages (from requests->transformers) (2024.7.4)\n",
      "Requirement already satisfied: mpmath<1.4,>=1.1.0 in /Users/ttran/PyCharmProjects/aiug-workship-vs/aiug-workshop/.venv/lib/python3.9/site-packages (from sympy->torch) (1.3.0)\n",
      "Note: you may need to restart the kernel to use updated packages.\n"
     ]
    }
   ],
   "source": [
    "%pip install transformers torch"
   ]
  },
  {
   "cell_type": "code",
   "execution_count": 2,
   "metadata": {},
   "outputs": [
    {
     "name": "stderr",
     "output_type": "stream",
     "text": [
      "/Users/ttran/PyCharmProjects/aiug-workship-vs/aiug-workshop/.venv/lib/python3.9/site-packages/urllib3/__init__.py:35: NotOpenSSLWarning: urllib3 v2 only supports OpenSSL 1.1.1+, currently the 'ssl' module is compiled with 'LibreSSL 2.8.3'. See: https://github.com/urllib3/urllib3/issues/3020\n",
      "  warnings.warn(\n",
      "/Users/ttran/PyCharmProjects/aiug-workship-vs/aiug-workshop/.venv/lib/python3.9/site-packages/tqdm/auto.py:21: TqdmWarning: IProgress not found. Please update jupyter and ipywidgets. See https://ipywidgets.readthedocs.io/en/stable/user_install.html\n",
      "  from .autonotebook import tqdm as notebook_tqdm\n",
      "No model was supplied, defaulted to openai-community/gpt2 and revision 6c0e608 (https://huggingface.co/openai-community/gpt2).\n",
      "Using a pipeline without specifying a model name and revision in production is not recommended.\n",
      "Hardware accelerator e.g. GPU is available in the environment, but no `device` argument is passed to the `Pipeline` object. Model will be on CPU.\n",
      "Truncation was not explicitly activated but `max_length` is provided a specific value, please use `truncation=True` to explicitly truncate examples to max length. Defaulting to 'longest_first' truncation strategy. If you encode pairs of sequences (GLUE-style) with the tokenizer you can select this strategy more precisely by providing a specific strategy to `truncation`.\n",
      "Setting `pad_token_id` to `eos_token_id`:50256 for open-end generation.\n"
     ]
    },
    {
     "data": {
      "text/plain": [
       "[{'generated_text': 'Hello, I\\'m a language model. That makes sense to me — but there are so many other factors at play.\"\\n\\nTiny-world'},\n",
       " {'generated_text': \"Hello, I'm a language modeler. I am not like other people that have started to put their data into data structures where you write a huge\"},\n",
       " {'generated_text': \"Hello, I'm a language model\\n\\nThere's a third kind of model that, in fact, fits really well with my language as a whole\"},\n",
       " {'generated_text': \"Hello, I'm a language model for Clojure, so any thoughts on why Clojure really is good at language development, how it works, and how it\"},\n",
       " {'generated_text': \"Hello, I'm a language modeler, I am an experienced programmer. I write in Elixir and I like Clojure very much. But I'm also\"}]"
      ]
     },
     "execution_count": 2,
     "metadata": {},
     "output_type": "execute_result"
    }
   ],
   "source": [
    "from transformers import pipeline\n",
    "\n",
    "model = pipeline(\"text-generation\")\n",
    "\n",
    "model(\"Hello, I'm a language model\", \n",
    "      max_length=30, \n",
    "      num_return_sequences=5)"
   ]
  },
  {
   "cell_type": "code",
   "execution_count": 3,
   "metadata": {},
   "outputs": [],
   "source": [
    "from transformers import AutoTokenizer, AutoModelForCausalLM\n",
    "\n",
    "model_name =\"TinyLlama/TinyLlama-1.1B-Chat-v1.0\"\n",
    "\n",
    "save_directory = \"model_directory\"\n",
    "\n",
    "# load from pretrained instances\n",
    "model = AutoModelForCausalLM.from_pretrained(model_name)\n",
    "tokenizer = AutoTokenizer.from_pretrained(model_name)\n",
    "\n",
    "# save model for later user\n",
    "tokenizer.save_pretrained(save_directory)\n",
    "model.save_pretrained(save_directory)"
   ]
  },
  {
   "cell_type": "code",
   "execution_count": 7,
   "metadata": {},
   "outputs": [
    {
     "name": "stdout",
     "output_type": "stream",
     "text": [
      "Encoding:\n",
      "{'input_ids': [1, 15043, 29892, 306, 29915, 29885, 263, 4086, 1904], 'attention_mask': [1, 1, 1, 1, 1, 1, 1, 1, 1]}\n",
      "Decoding:\n",
      "<s> Hello, I'm a language model\n"
     ]
    }
   ],
   "source": [
    "# tokenizer outputs\n",
    "encoding = tokenizer(\"Hello, I'm a language model\")\n",
    "\n",
    "# encoding\n",
    "print(\"Encoding:\")\n",
    "print(encoding)\n",
    "\n",
    "# decoding\n",
    "print(\"Decoding:\")\n",
    "print(tokenizer.decode(encoding['input_ids']))\n"
   ]
  },
  {
   "cell_type": "code",
   "execution_count": 8,
   "metadata": {},
   "outputs": [
    {
     "name": "stderr",
     "output_type": "stream",
     "text": [
      "Hardware accelerator e.g. GPU is available in the environment, but no `device` argument is passed to the `Pipeline` object. Model will be on CPU.\n"
     ]
    },
    {
     "data": {
      "text/plain": [
       "[{'generated_text': 'Hello, I\\'m a language model. Can you provide me with some examples of how to use the \"translate\" function in Python?'}]"
      ]
     },
     "execution_count": 8,
     "metadata": {},
     "output_type": "execute_result"
    }
   ],
   "source": [
    "# load model from saved directory\n",
    "model = AutoModelForCausalLM.from_pretrained(save_directory)\n",
    "tokenizer = AutoTokenizer.from_pretrained(save_directory)\n",
    "\n",
    "model = pipeline(\"text-generation\", model=model, tokenizer=tokenizer)\n",
    "\n",
    "model(\"Hello, I'm a language model\")"
   ]
  },
  {
   "cell_type": "code",
   "execution_count": null,
   "metadata": {},
   "outputs": [],
   "source": []
  },
  {
   "cell_type": "code",
   "execution_count": null,
   "metadata": {},
   "outputs": [],
   "source": []
  }
 ],
 "metadata": {
  "kernelspec": {
   "display_name": "venv",
   "language": "python",
   "name": "python3"
  },
  "language_info": {
   "codemirror_mode": {
    "name": "ipython",
    "version": 3
   },
   "file_extension": ".py",
   "mimetype": "text/x-python",
   "name": "python",
   "nbconvert_exporter": "python",
   "pygments_lexer": "ipython3",
   "version": "3.9.6"
  }
 },
 "nbformat": 4,
 "nbformat_minor": 2
}
