{
 "cells": [
  {
   "cell_type": "markdown",
   "metadata": {},
   "source": [
    "### Prebuilt react agent with search tool and memory"
   ]
  },
  {
   "cell_type": "code",
   "execution_count": 21,
   "metadata": {},
   "outputs": [],
   "source": [
    "# Import relevant functionality\n",
    "from langchain_openai import ChatOpenAI\n",
    "from langchain_community.tools.tavily_search import TavilySearchResults\n",
    "from langchain_core.messages import HumanMessage\n",
    "from langgraph.checkpoint.sqlite import SqliteSaver\n",
    "from langchain_core.messages import BaseMessage\n",
    "from langgraph.prebuilt import create_react_agent"
   ]
  },
  {
   "cell_type": "code",
   "execution_count": 26,
   "metadata": {},
   "outputs": [],
   "source": [
    "# Create the agent with memory\n",
    "memory = SqliteSaver.from_conn_string(\":memory:\")\n",
    "model = ChatOpenAI(model='gpt-4o')\n",
    "search = TavilySearchResults(max_results=2)\n",
    "tools = [search]\n",
    "agent_executor = create_react_agent(model, tools, checkpointer=memory)  "
   ]
  },
  {
   "cell_type": "code",
   "execution_count": 27,
   "metadata": {},
   "outputs": [],
   "source": [
    "# if multiple user, use different thread_id for each user\n",
    "# Use the agent with specific thread id (memory)\n",
    "config = {\"configurable\": {\"thread_id\": \"user1\"}}"
   ]
  },
  {
   "cell_type": "code",
   "execution_count": 29,
   "metadata": {},
   "outputs": [
    {
     "name": "stdout",
     "output_type": "stream",
     "text": [
      "{'agent': {'messages': [AIMessage(content='', additional_kwargs={'tool_calls': [{'id': 'call_n01PdLhFDRSOja2n9juaCkG0', 'function': {'arguments': '{\"query\": \"5k races San Francisco July 2023\"}', 'name': 'tavily_search_results_json'}, 'type': 'function'}, {'id': 'call_Em8N3RfmJYzbpIk1eUonJgkh', 'function': {'arguments': '{\"query\": \"5k races San Francisco August 2023\"}', 'name': 'tavily_search_results_json'}, 'type': 'function'}]}, response_metadata={'token_usage': {'completion_tokens': 68, 'prompt_tokens': 590, 'total_tokens': 658}, 'model_name': 'gpt-4o-2024-05-13', 'system_fingerprint': 'fp_4e2b2da518', 'finish_reason': 'tool_calls', 'logprobs': None}, id='run-77cfa0d7-84d2-4086-8fe9-5901bb93cbf4-0', tool_calls=[{'name': 'tavily_search_results_json', 'args': {'query': '5k races San Francisco July 2023'}, 'id': 'call_n01PdLhFDRSOja2n9juaCkG0', 'type': 'tool_call'}, {'name': 'tavily_search_results_json', 'args': {'query': '5k races San Francisco August 2023'}, 'id': 'call_Em8N3RfmJYzbpIk1eUonJgkh', 'type': 'tool_call'}], usage_metadata={'input_tokens': 590, 'output_tokens': 68, 'total_tokens': 658})]}}\n",
      "Assistant: \n",
      "{'tools': {'messages': [ToolMessage(content='[{\"url\": \"https://runningintheusa.com/race/list/san francisco-CA/july\", \"content\": \"July Races in San Francisco, CA. Show Map. Jan Feb Mar Apr May Jun Jul Aug Sep Oct Nov Dec. Month: July January; February; March; April; May; ... 2023. Wednesday. San Francisco Twilight 5000. 5K run. More Information ... Land\\'s End Find-Your-Way 5K, 10K San Francisco. Jul 13, 2024. Saturday. 10K, 5K adventure race\"}, {\"url\": \"https://runsignup.com/Race/CA/SanFrancisco/sf0729\", \"content\": \"Directions. View Map. The Sunset Marathon SAN FRANCISCO 2023 is on Saturday July 29, 2023. It includes the following events: 5K Registration, 10K Registration, Half-Marathon, and Virtual Run Packet (5K/10K/13.1).\"}]', name='tavily_search_results_json', tool_call_id='call_n01PdLhFDRSOja2n9juaCkG0'), ToolMessage(content='[{\"url\": \"https://runningintheusa.com/race/list/san francisco-ca/august\", \"content\": \"August Races in San Francisco, CA. Show Map. Jan Feb Mar Apr May Jun Jul Aug Sep Oct Nov Dec. Month: August January; February; March; ... Aug 5, 2023. Saturday. Sunrise Marathon San Francisco 5K/10K/13.1. 26.2K, 13.2K, 10K, 5K run. Virtual Option. More Information\"}, {\"url\": \"https://runsignup.com/Race/CA/SanFrancisco/SunriseMarathonSANFRANCISCO08\", \"content\": \"The Sunrise Marathon SAN FRANCISCO is on Saturday August 5, 2023. It includes the following events: 5K Registration, 10K Registration, Half-Marathon, and Sunrise Marathon Virtual (5K/10K/13.1).\"}]', name='tavily_search_results_json', tool_call_id='call_Em8N3RfmJYzbpIk1eUonJgkh')]}}\n",
      "Assistant: [{\"url\": \"https://runningintheusa.com/race/list/san francisco-ca/august\", \"content\": \"August Races in San Francisco, CA. Show Map. Jan Feb Mar Apr May Jun Jul Aug Sep Oct Nov Dec. Month: August January; February; March; ... Aug 5, 2023. Saturday. Sunrise Marathon San Francisco 5K/10K/13.1. 26.2K, 13.2K, 10K, 5K run. Virtual Option. More Information\"}, {\"url\": \"https://runsignup.com/Race/CA/SanFrancisco/SunriseMarathonSANFRANCISCO08\", \"content\": \"The Sunrise Marathon SAN FRANCISCO is on Saturday August 5, 2023. It includes the following events: 5K Registration, 10K Registration, Half-Marathon, and Sunrise Marathon Virtual (5K/10K/13.1).\"}]\n",
      "{'agent': {'messages': [AIMessage(content=\"Here are some 5K events in San Francisco during July and August 2023:\\n\\n### July\\n1. **San Francisco Twilight 5000** - This event includes a 5K run. More information can be found [here](https://runningintheusa.com/race/list/san francisco-CA/july).\\n\\n2. **Sloth Runner's Club 5K/10K/13.1 SAN FRANCISCO** - Scheduled for Saturday, July 8, 2023. More details can be found [here](https://runsignup.com/Race/CA/SanFrancisco/SlothRunnersClubRunSANFRANCISCO).\\n\\n3. **Sunset Marathon SAN FRANCISCO 2023** - This event includes a 5K run on Saturday, July 29, 2023. More information is available [here](https://runsignup.com/Race/CA/SanFrancisco/sf0729).\\n\\n### August\\n1. **Sunrise Marathon San Francisco 5K/10K/13.1** - Scheduled for Saturday, August 5, 2023. More details can be found [here](https://runsignup.com/Race/CA/SanFrancisco/SunriseMarathonSANFRANCISCO08).\\n\\nWould you like more information on any specific event?\", response_metadata={'token_usage': {'completion_tokens': 274, 'prompt_tokens': 1082, 'total_tokens': 1356}, 'model_name': 'gpt-4o-2024-05-13', 'system_fingerprint': 'fp_bc2a86f5f5', 'finish_reason': 'stop', 'logprobs': None}, id='run-ac7b6386-43c8-4d98-8613-d60cdda1b2ef-0', usage_metadata={'input_tokens': 1082, 'output_tokens': 274, 'total_tokens': 1356})]}}\n",
      "Assistant: Here are some 5K events in San Francisco during July and August 2023:\n",
      "\n",
      "### July\n",
      "1. **San Francisco Twilight 5000** - This event includes a 5K run. More information can be found [here](https://runningintheusa.com/race/list/san francisco-CA/july).\n",
      "\n",
      "2. **Sloth Runner's Club 5K/10K/13.1 SAN FRANCISCO** - Scheduled for Saturday, July 8, 2023. More details can be found [here](https://runsignup.com/Race/CA/SanFrancisco/SlothRunnersClubRunSANFRANCISCO).\n",
      "\n",
      "3. **Sunset Marathon SAN FRANCISCO 2023** - This event includes a 5K run on Saturday, July 29, 2023. More information is available [here](https://runsignup.com/Race/CA/SanFrancisco/sf0729).\n",
      "\n",
      "### August\n",
      "1. **Sunrise Marathon San Francisco 5K/10K/13.1** - Scheduled for Saturday, August 5, 2023. More details can be found [here](https://runsignup.com/Race/CA/SanFrancisco/SunriseMarathonSANFRANCISCO08).\n",
      "\n",
      "Would you like more information on any specific event?\n",
      "Goodbye!\n"
     ]
    }
   ],
   "source": [
    "# pass in config and call agent_executor.stream to interact with the agent\n",
    "while True:\n",
    "    user_input = input(\"User: \")\n",
    "    if user_input.lower() in [\"quit\", \"exit\", \"q\"]:\n",
    "        print(\"Goodbye!\")\n",
    "        break\n",
    "    for event in agent_executor.stream({\"messages\": [(\"user\", user_input)]}, config):\n",
    "        print(event)\n",
    "        for value in event.values():\n",
    "            if isinstance(value[\"messages\"][-1], BaseMessage):\n",
    "                print(\"Assistant:\", value[\"messages\"][-1].content)"
   ]
  },
  {
   "cell_type": "code",
   "execution_count": 25,
   "metadata": {},
   "outputs": [
    {
     "data": {
      "text/plain": [
       "[HumanMessage(content=\"Hi I'm Rick\", id='787d088e-478e-4daa-914f-f87ec9939d66'),\n",
       " AIMessage(content='Hello, Rick! How can I assist you today?', response_metadata={'token_usage': {'completion_tokens': 12, 'prompt_tokens': 82, 'total_tokens': 94}, 'model_name': 'gpt-4o-2024-05-13', 'system_fingerprint': 'fp_4e2b2da518', 'finish_reason': 'stop', 'logprobs': None}, id='run-ba196581-ebb1-46f8-b3db-ee84ddf2de83-0', usage_metadata={'input_tokens': 82, 'output_tokens': 12, 'total_tokens': 94}),\n",
       " HumanMessage(content=\"What's the weather in San Francisco?\", id='b8399e78-e901-483c-b0c4-d2c895b0a5cd'),\n",
       " AIMessage(content='', additional_kwargs={'tool_calls': [{'id': 'call_eKTatrp1cgTd17zCSOhus4UK', 'function': {'arguments': '{\"query\":\"current weather in San Francisco\"}', 'name': 'tavily_search_results_json'}, 'type': 'function'}]}, response_metadata={'token_usage': {'completion_tokens': 22, 'prompt_tokens': 108, 'total_tokens': 130}, 'model_name': 'gpt-4o-2024-05-13', 'system_fingerprint': 'fp_4e2b2da518', 'finish_reason': 'tool_calls', 'logprobs': None}, id='run-d890d081-34f0-44b7-b48e-ce5b27de5a09-0', tool_calls=[{'name': 'tavily_search_results_json', 'args': {'query': 'current weather in San Francisco'}, 'id': 'call_eKTatrp1cgTd17zCSOhus4UK', 'type': 'tool_call'}], usage_metadata={'input_tokens': 108, 'output_tokens': 22, 'total_tokens': 130}),\n",
       " ToolMessage(content='[{\"url\": \"https://www.weatherapi.com/\", \"content\": \"{\\'location\\': {\\'name\\': \\'San Francisco\\', \\'region\\': \\'California\\', \\'country\\': \\'United States of America\\', \\'lat\\': 37.78, \\'lon\\': -122.42, \\'tz_id\\': \\'America/Los_Angeles\\', \\'localtime_epoch\\': 1722430446, \\'localtime\\': \\'2024-07-31 5:54\\'}, \\'current\\': {\\'last_updated_epoch\\': 1722429900, \\'last_updated\\': \\'2024-07-31 05:45\\', \\'temp_c\\': 14.0, \\'temp_f\\': 57.2, \\'is_day\\': 0, \\'condition\\': {\\'text\\': \\'Patchy rain nearby\\', \\'icon\\': \\'//cdn.weatherapi.com/weather/64x64/night/176.png\\', \\'code\\': 1063}, \\'wind_mph\\': 5.6, \\'wind_kph\\': 9.0, \\'wind_degree\\': 242, \\'wind_dir\\': \\'WSW\\', \\'pressure_mb\\': 1014.0, \\'pressure_in\\': 29.94, \\'precip_mm\\': 0.02, \\'precip_in\\': 0.0, \\'humidity\\': 89, \\'cloud\\': 50, \\'feelslike_c\\': 13.5, \\'feelslike_f\\': 56.3, \\'windchill_c\\': 13.5, \\'windchill_f\\': 56.3, \\'heatindex_c\\': 14.0, \\'heatindex_f\\': 57.2, \\'dewpoint_c\\': 12.3, \\'dewpoint_f\\': 54.1, \\'vis_km\\': 10.0, \\'vis_miles\\': 6.0, \\'uv\\': 1.0, \\'gust_mph\\': 7.8, \\'gust_kph\\': 12.5}}\"}, {\"url\": \"https://www.timeanddate.com/weather/usa/san-francisco/hourly\", \"content\": \"Hour-by-Hour Forecast for San Francisco, California, USA. Weather Today Weather Hourly 14 Day Forecast Yesterday/Past Weather Climate (Averages) Currently: 59 \\\\u00b0F. Passing clouds. (Weather station: San Francisco International Airport, USA). See more current weather.\"}]', name='tavily_search_results_json', id='e40d27bd-a7f6-4174-890f-c56ea561623c', tool_call_id='call_eKTatrp1cgTd17zCSOhus4UK'),\n",
       " AIMessage(content='The current weather in San Francisco is:\\n\\n- **Temperature:** 14°C (57.2°F)\\n- **Condition:** Patchy rain nearby\\n- **Wind:** 5.6 mph (9.0 kph) from the WSW\\n- **Humidity:** 89%\\n- **Cloud Cover:** 50%\\n- **Visibility:** 10 km (6 miles)\\n- **Pressure:** 1014 mb (29.94 in)\\n- **Feels Like:** 13.5°C (56.3°F)\\n- **UV Index:** 1 (low)\\n\\nFor more detailed and updated information, you can check [this link](https://www.weatherapi.com/) or [this link](https://www.timeanddate.com/weather/usa/san-francisco/hourly).', response_metadata={'token_usage': {'completion_tokens': 162, 'prompt_tokens': 636, 'total_tokens': 798}, 'model_name': 'gpt-4o-2024-05-13', 'system_fingerprint': 'fp_bc2a86f5f5', 'finish_reason': 'stop', 'logprobs': None}, id='run-74f9818d-cd54-481d-a5bc-3cd98690e920-0', usage_metadata={'input_tokens': 636, 'output_tokens': 162, 'total_tokens': 798})]"
      ]
     },
     "execution_count": 25,
     "metadata": {},
     "output_type": "execute_result"
    }
   ],
   "source": [
    "# check what's stored in memory\n",
    "agent_executor.get_state(config).values['messages']"
   ]
  },
  {
   "cell_type": "code",
   "execution_count": null,
   "metadata": {},
   "outputs": [],
   "source": []
  }
 ],
 "metadata": {
  "kernelspec": {
   "display_name": "venv",
   "language": "python",
   "name": "python3"
  },
  "language_info": {
   "codemirror_mode": {
    "name": "ipython",
    "version": 3
   },
   "file_extension": ".py",
   "mimetype": "text/x-python",
   "name": "python",
   "nbconvert_exporter": "python",
   "pygments_lexer": "ipython3",
   "version": "3.9.6"
  }
 },
 "nbformat": 4,
 "nbformat_minor": 2
}
